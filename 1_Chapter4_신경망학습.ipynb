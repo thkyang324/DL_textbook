{
 "cells": [
  {
   "cell_type": "markdown",
   "id": "6b744cd2",
   "metadata": {},
   "source": [
    "# Load MNIST"
   ]
  },
  {
   "cell_type": "code",
   "execution_count": 14,
   "id": "fdabee69",
   "metadata": {},
   "outputs": [],
   "source": [
    "import os\n",
    "import sys\n",
    "import numpy as np\n",
    "import torch\n",
    "import torch.nn as nn\n",
    "import torch.nn.functional as F\n",
    "import torch.optim as optim\n",
    "from torchvision import datasets, transforms\n",
    "import matplotlib.pyplot as plt\n",
    "\n",
    "from PIL import Image"
   ]
  },
  {
   "cell_type": "code",
   "execution_count": 15,
   "id": "a63ea141",
   "metadata": {},
   "outputs": [],
   "source": [
    "train_data = datasets.MNIST(root = './data/MNIST/',\n",
    "                            train=True,\n",
    "                            download=True,\n",
    "                            transform=transforms.ToTensor())\n",
    "test_data = datasets.MNIST(root = './data/MNIST/',\n",
    "                            train=False,\n",
    "                            download=True,\n",
    "                            transform=transforms.ToTensor())"
   ]
  },
  {
   "cell_type": "code",
   "execution_count": 16,
   "id": "bfca14af",
   "metadata": {},
   "outputs": [
    {
     "data": {
      "image/png": "[encoded data removed]",
      "text/plain": [
       "<Figure size 80x80 with 1 Axes>"
      ]
     },
     "metadata": {},
     "output_type": "display_data"
    }
   ],
   "source": [
    "def img_show(img, label):\n",
    "    plt.figure(figsize=(.8,.8))\n",
    "    plt.imshow(np.transpose(img, (1,2,0)))\n",
    "    plt.title(label)\n",
    "img_show(*test_data[1000])\n"
   ]
  },
  {
   "cell_type": "markdown",
   "id": "ad023ce0",
   "metadata": {},
   "source": [
    "# Loss functions"
   ]
  },
  {
   "cell_type": "code",
   "execution_count": 17,
   "id": "9231b5c3",
   "metadata": {},
   "outputs": [],
   "source": [
    "def sum_squares_error(y_pred, y):\n",
    "    # 오차제곱합\n",
    "    return 0.5 * np.sum((y_pred-y)**2)\n",
    "\n",
    "\n",
    "def cross_entrophy_error(y_pred, y, delta=1e-7):\n",
    "    # 교차 엔트로피 오차\n",
    "    return -np.sum(y*np.log(y_pred+delta))"
   ]
  },
  {
   "cell_type": "code",
   "execution_count": null,
   "id": "8e718a02",
   "metadata": {},
   "outputs": [],
   "source": []
  }
 ],
 "metadata": {
  "kernelspec": {
   "display_name": "Python 3 (ipykernel)",
   "language": "python",
   "name": "python3"
  },
  "language_info": {
   "codemirror_mode": {
    "name": "ipython",
    "version": 3
   },
   "file_extension": ".py",
   "mimetype": "text/x-python",
   "name": "python",
   "nbconvert_exporter": "python",
   "pygments_lexer": "ipython3",
   "version": "3.9.15"
  }
 },
 "nbformat": 4,
 "nbformat_minor": 5
}
