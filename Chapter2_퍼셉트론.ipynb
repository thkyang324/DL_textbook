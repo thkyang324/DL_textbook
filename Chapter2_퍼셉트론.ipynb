{
 "cells": [
  {
   "cell_type": "code",
   "execution_count": 85,
   "id": "9b38c2f9",
   "metadata": {},
   "outputs": [],
   "source": [
    "import numpy as np"
   ]
  },
  {
   "cell_type": "code",
   "execution_count": 96,
   "id": "ab4a3461",
   "metadata": {},
   "outputs": [],
   "source": [
    "class Perceptron:\n",
    "    def __init__(self, w1, w2, b):\n",
    "        self.w = np.array([w1, w2])\n",
    "        self.bias = b\n",
    "    def get_output(self, x1, x2):\n",
    "        x = np.array([x1, x2])\n",
    "        output = np.sum(self.w*x)+self.bias\n",
    "        return 1 if output > 0 else 0\n",
    "def simulation(func):\n",
    "    output = []\n",
    "    for x1 in (0,1):\n",
    "        for x2 in (0,1):\n",
    "            output.append(f\"x1: {x1}\\tx2: {x2}\\t=> output: {func(x1,x2)}\")\n",
    "    return '\\n'.join(output)"
   ]
  },
  {
   "cell_type": "markdown",
   "id": "d6bd5058",
   "metadata": {},
   "source": [
    "# AND, NAND, OR, NOR"
   ]
  },
  {
   "cell_type": "code",
   "execution_count": 97,
   "id": "23778bde",
   "metadata": {},
   "outputs": [
    {
     "name": "stdout",
     "output_type": "stream",
     "text": [
      "AND\n",
      "x1: 0\tx2: 0\t=> output: 0\n",
      "x1: 0\tx2: 1\t=> output: 0\n",
      "x1: 1\tx2: 0\t=> output: 0\n",
      "x1: 1\tx2: 1\t=> output: 1\n",
      "NAND\n",
      "x1: 0\tx2: 0\t=> output: 1\n",
      "x1: 0\tx2: 1\t=> output: 1\n",
      "x1: 1\tx2: 0\t=> output: 1\n",
      "x1: 1\tx2: 1\t=> output: 0\n",
      "OR\n",
      "x1: 0\tx2: 0\t=> output: 0\n",
      "x1: 0\tx2: 1\t=> output: 1\n",
      "x1: 1\tx2: 0\t=> output: 1\n",
      "x1: 1\tx2: 1\t=> output: 1\n",
      "NOR\n",
      "x1: 0\tx2: 0\t=> output: 1\n",
      "x1: 0\tx2: 1\t=> output: 0\n",
      "x1: 1\tx2: 0\t=> output: 0\n",
      "x1: 1\tx2: 1\t=> output: 0\n"
     ]
    }
   ],
   "source": [
    "AND = Perceptron(0.5,0.5,-0.7)\n",
    "NAND = Perceptron(-0.5,-0.5,0.7)\n",
    "OR = Perceptron(0.5,0.5,-0.2)\n",
    "NOR = Perceptron(-0.5,-0.5,0.2)\n",
    "\n",
    "print(f\"AND\\n{simulation(AND.get_output)}\\nNAND\\n{simulation(NAND.get_output)}\\nOR\\n{simulation(OR.get_output)}\\nNOR\\n{simulation(NOR.get_output)}\")\n"
   ]
  },
  {
   "cell_type": "markdown",
   "id": "e71e090e",
   "metadata": {},
   "source": [
    "# XOR"
   ]
  },
  {
   "cell_type": "code",
   "execution_count": 98,
   "id": "1e77c7fe",
   "metadata": {},
   "outputs": [
    {
     "name": "stdout",
     "output_type": "stream",
     "text": [
      "x1: 0\tx2: 0\t=> output: 0\n",
      "x1: 0\tx2: 1\t=> output: 1\n",
      "x1: 1\tx2: 0\t=> output: 1\n",
      "x1: 1\tx2: 1\t=> output: 0\n"
     ]
    }
   ],
   "source": [
    "def XOR(x1, x2):\n",
    "    s1 = NAND.get_output(x1,x2)\n",
    "    s2 = OR.get_output(x1,x2)\n",
    "    return AND.get_output(s1,s2)\n",
    "print(simulation(XOR))"
   ]
  },
  {
   "cell_type": "markdown",
   "id": "b843235f",
   "metadata": {},
   "source": [
    "# Summary\n",
    "- 퍼셉트론이란 입출력을 가진 알고리즘으로, 입력을 주면 정해진 규칙에 따른 값을 출력한다.\n",
    "- 퍼셉트론의 매개변수는 가중치와 편향으로 설정한다.\n",
    "- 퍼셉트론으로 AND, NAND, OR, NOR을 표현할 수 있다.\n",
    "- 퍼셉트론의 층을 쌓아 XOR을 표현할 수 있다.\n",
    "- 단층 퍼셉트론은 직선을, 다층 퍼셉트론은 곡선을 표현할 수 있다."
   ]
  }
 ],
 "metadata": {
  "kernelspec": {
   "display_name": "Python 3 (ipykernel)",
   "language": "python",
   "name": "python3"
  },
  "language_info": {
   "codemirror_mode": {
    "name": "ipython",
    "version": 3
   },
   "file_extension": ".py",
   "mimetype": "text/x-python",
   "name": "python",
   "nbconvert_exporter": "python",
   "pygments_lexer": "ipython3",
   "version": "3.10.8"
  }
 },
 "nbformat": 4,
 "nbformat_minor": 5
}
