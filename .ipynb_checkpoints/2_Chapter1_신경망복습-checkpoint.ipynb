{
 "cells": [
  {
   "cell_type": "code",
   "execution_count": 1,
   "id": "3af5b8f8",
   "metadata": {},
   "outputs": [],
   "source": [
    "import torch\n",
    "import torch.nn as nn\n",
    "import torch.functional as F\n",
    "\n",
    "import numpy as np"
   ]
  },
  {
   "cell_type": "markdown",
   "id": "6cb69545",
   "metadata": {},
   "source": [
    "# 1.1.1 벡터와 행렬"
   ]
  },
  {
   "cell_type": "code",
   "execution_count": 6,
   "id": "33994c00",
   "metadata": {},
   "outputs": [
    {
     "data": {
      "text/plain": [
       "((3, 2), 2)"
      ]
     },
     "execution_count": 6,
     "metadata": {},
     "output_type": "execute_result"
    }
   ],
   "source": [
    "# 3행2열 행렬 = 3x2 행렬 (2차원)\n",
    "matrix_a = np.array([\n",
    "    [1,2],\n",
    "    [3,4],\n",
    "    [5,6]\n",
    "])\n",
    "matrix_a.shape, matrix_a.ndim"
   ]
  },
  {
   "cell_type": "markdown",
   "id": "c4c89afc",
   "metadata": {},
   "source": [
    "# 1.1.2 행렬의 원소별 연산"
   ]
  },
  {
   "cell_type": "code",
   "execution_count": 9,
   "id": "5958903f",
   "metadata": {},
   "outputs": [
    {
     "data": {
      "text/plain": [
       "(array([[ 1,  3,  5],\n",
       "        [ 7,  9, 11]]),\n",
       " array([[ 0,  2,  6],\n",
       "        [12, 20, 30]]))"
      ]
     },
     "execution_count": 9,
     "metadata": {},
     "output_type": "execute_result"
    }
   ],
   "source": [
    "# numpy의 행렬연산은 element wise로 이루어 진다.\n",
    "w = np.array([\n",
    "    [1,2,3],\n",
    "    [4,5,6]\n",
    "])\n",
    "x = np.array([\n",
    "    [0,1,2],\n",
    "    [3,4,5]\n",
    "])\n",
    "w+x, w*x"
   ]
  },
  {
   "cell_type": "markdown",
   "id": "a469da63",
   "metadata": {},
   "source": [
    "# 1.1.3 브로드캐스트"
   ]
  },
  {
   "cell_type": "code",
   "execution_count": 11,
   "id": "14bb4199",
   "metadata": {},
   "outputs": [
    {
     "data": {
      "text/plain": [
       "(array([[10, 20],\n",
       "        [30, 40]]),\n",
       " array([[10, 40],\n",
       "        [30, 80]]))"
      ]
     },
     "execution_count": 11,
     "metadata": {},
     "output_type": "execute_result"
    }
   ],
   "source": [
    "# numpy의 일부 연산은 브로드캐스팅을 통해 형상이 다른 행렬 간 연산을 영리하게 수행한다.\n",
    "a = np.array([\n",
    "    [1,2],\n",
    "    [3,4]\n",
    "])\n",
    "b = np.array([10,20])\n",
    "a*10, a*b"
   ]
  },
  {
   "cell_type": "markdown",
   "id": "f709ff4b",
   "metadata": {},
   "source": [
    "# 1.1.4 벡터의 내적과 행렬의 곱"
   ]
  },
  {
   "cell_type": "code",
   "execution_count": 17,
   "id": "2cb05702",
   "metadata": {},
   "outputs": [
    {
     "data": {
      "text/plain": [
       "(32,\n",
       " array([[19, 22],\n",
       "        [43, 50]]),\n",
       " array([[19, 22],\n",
       "        [43, 50]]))"
      ]
     },
     "execution_count": 17,
     "metadata": {},
     "output_type": "execute_result"
    }
   ],
   "source": [
    "# numpy의 dot, matmul 은 내적과 행렬곱을 의미한다.\n",
    "# dot의 경우 1차원이면 내적을, 2차원이면 행렬곱을 수행한다. 의도에 따라 혼동되지 않도록 적재적소에 활용할 것.\n",
    "\n",
    "a = np.array([1,2,3])\n",
    "b = np.array([4,5,6])\n",
    "\n",
    "A = np.array([\n",
    "    [1,2],\n",
    "    [3,4]\n",
    "])\n",
    "B = np.array([\n",
    "    [5,6],\n",
    "    [7,8]\n",
    "])\n",
    "\n",
    "np.dot(a,b), np.matmul(A,B), np.dot(A,B)"
   ]
  },
  {
   "cell_type": "markdown",
   "id": "475cadcf",
   "metadata": {},
   "source": [
    "### Note : 100 numpy exercises 사이트를 활용해 넘파이에 익숙해지자."
   ]
  },
  {
   "cell_type": "markdown",
   "id": "924f7ab3",
   "metadata": {},
   "source": [
    "# 1.1.5 행렬 형상 확인"
   ]
  },
  {
   "cell_type": "code",
   "execution_count": 23,
   "id": "dc015fea",
   "metadata": {},
   "outputs": [
    {
     "data": {
      "text/plain": [
       "((3, 4), (4, 9), (3, 9))"
      ]
     },
     "execution_count": 23,
     "metadata": {},
     "output_type": "execute_result"
    }
   ],
   "source": [
    "# (a,b) X (b,c) = (a,c)\n",
    "A = np.ones(12).reshape(3,4)\n",
    "B = (np.ones(36)*2).reshape(4,9)\n",
    "A.shape, B.shape, np.matmul(A,B).shape"
   ]
  }
 ],
 "metadata": {
  "kernelspec": {
   "display_name": "Python 3 (ipykernel)",
   "language": "python",
   "name": "python3"
  },
  "language_info": {
   "codemirror_mode": {
    "name": "ipython",
    "version": 3
   },
   "file_extension": ".py",
   "mimetype": "text/x-python",
   "name": "python",
   "nbconvert_exporter": "python",
   "pygments_lexer": "ipython3",
   "version": "3.9.15"
  }
 },
 "nbformat": 4,
 "nbformat_minor": 5
}
