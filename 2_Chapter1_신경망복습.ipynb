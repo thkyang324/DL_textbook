{
 "cells": [
  {
   "cell_type": "code",
   "execution_count": 25,
   "id": "3af5b8f8",
   "metadata": {},
   "outputs": [],
   "source": [
    "import torch\n",
    "import torch.nn as nn\n",
    "import torch.functional as F\n",
    "\n",
    "import numpy as np"
   ]
  },
  {
   "cell_type": "markdown",
   "id": "6cb69545",
   "metadata": {},
   "source": [
    "# 1.1.1 벡터와 행렬"
   ]
  },
  {
   "cell_type": "code",
   "execution_count": 26,
   "id": "33994c00",
   "metadata": {},
   "outputs": [
    {
     "data": {
      "text/plain": [
       "((3, 2), 2)"
      ]
     },
     "execution_count": 26,
     "metadata": {},
     "output_type": "execute_result"
    }
   ],
   "source": [
    "# 3행2열 행렬 = 3x2 행렬 (2차원)\n",
    "matrix_a = np.array([\n",
    "    [1,2],\n",
    "    [3,4],\n",
    "    [5,6]\n",
    "])\n",
    "matrix_a.shape, matrix_a.ndim"
   ]
  },
  {
   "cell_type": "markdown",
   "id": "c4c89afc",
   "metadata": {},
   "source": [
    "# 1.1.2 행렬의 원소별 연산"
   ]
  },
  {
   "cell_type": "code",
   "execution_count": 27,
   "id": "5958903f",
   "metadata": {},
   "outputs": [
    {
     "data": {
      "text/plain": [
       "(array([[ 1,  3,  5],\n",
       "        [ 7,  9, 11]]),\n",
       " array([[ 0,  2,  6],\n",
       "        [12, 20, 30]]))"
      ]
     },
     "execution_count": 27,
     "metadata": {},
     "output_type": "execute_result"
    }
   ],
   "source": [
    "# numpy의 행렬연산은 element wise로 이루어 진다.\n",
    "w = np.array([\n",
    "    [1,2,3],\n",
    "    [4,5,6]\n",
    "])\n",
    "x = np.array([\n",
    "    [0,1,2],\n",
    "    [3,4,5]\n",
    "])\n",
    "w+x, w*x"
   ]
  },
  {
   "cell_type": "markdown",
   "id": "a469da63",
   "metadata": {},
   "source": [
    "# 1.1.3 브로드캐스트"
   ]
  },
  {
   "cell_type": "code",
   "execution_count": 28,
   "id": "14bb4199",
   "metadata": {},
   "outputs": [
    {
     "data": {
      "text/plain": [
       "(array([[10, 20],\n",
       "        [30, 40]]),\n",
       " array([[10, 40],\n",
       "        [30, 80]]))"
      ]
     },
     "execution_count": 28,
     "metadata": {},
     "output_type": "execute_result"
    }
   ],
   "source": [
    "# numpy의 일부 연산은 브로드캐스팅을 통해 형상이 다른 행렬 간 연산을 영리하게 수행한다.\n",
    "a = np.array([\n",
    "    [1,2],\n",
    "    [3,4]\n",
    "])\n",
    "b = np.array([10,20])\n",
    "a*10, a*b"
   ]
  },
  {
   "cell_type": "markdown",
   "id": "f709ff4b",
   "metadata": {},
   "source": [
    "# 1.1.4 벡터의 내적과 행렬의 곱"
   ]
  },
  {
   "cell_type": "code",
   "execution_count": 29,
   "id": "2cb05702",
   "metadata": {},
   "outputs": [
    {
     "data": {
      "text/plain": [
       "(32,\n",
       " array([[19, 22],\n",
       "        [43, 50]]),\n",
       " array([[19, 22],\n",
       "        [43, 50]]))"
      ]
     },
     "execution_count": 29,
     "metadata": {},
     "output_type": "execute_result"
    }
   ],
   "source": [
    "# numpy의 dot, matmul 은 내적과 행렬곱을 의미한다.\n",
    "# dot의 경우 1차원이면 내적을, 2차원이면 행렬곱을 수행한다. 의도에 따라 혼동되지 않도록 적재적소에 활용할 것.\n",
    "\n",
    "a = np.array([1,2,3])\n",
    "b = np.array([4,5,6])\n",
    "\n",
    "A = np.array([\n",
    "    [1,2],\n",
    "    [3,4]\n",
    "])\n",
    "B = np.array([\n",
    "    [5,6],\n",
    "    [7,8]\n",
    "])\n",
    "\n",
    "np.dot(a,b), np.matmul(A,B), np.dot(A,B)"
   ]
  },
  {
   "cell_type": "markdown",
   "id": "475cadcf",
   "metadata": {},
   "source": [
    "### Note : 100 numpy exercises 사이트를 활용해 넘파이에 익숙해지자."
   ]
  },
  {
   "cell_type": "markdown",
   "id": "924f7ab3",
   "metadata": {},
   "source": [
    "# 1.1.5 행렬 형상 확인"
   ]
  },
  {
   "cell_type": "code",
   "execution_count": 31,
   "id": "dc015fea",
   "metadata": {},
   "outputs": [
    {
     "data": {
      "text/plain": [
       "((3, 4), (4, 9), (3, 9))"
      ]
     },
     "execution_count": 31,
     "metadata": {},
     "output_type": "execute_result"
    }
   ],
   "source": [
    "# (a,b) X (b,c) = (a,c)\n",
    "A = np.ones(12).reshape(3,4)\n",
    "B = (np.ones(36)*2).reshape(4,9)\n",
    "A.shape, B.shape, np.matmul(A,B).shape"
   ]
  },
  {
   "cell_type": "markdown",
   "id": "037c3b9d",
   "metadata": {},
   "source": [
    "# 1.2 신경망 추론"
   ]
  },
  {
   "cell_type": "markdown",
   "id": "af0dcf59",
   "metadata": {},
   "source": [
    "# 1.2.1 신경망 추론 전체 그림"
   ]
  },
  {
   "cell_type": "code",
   "execution_count": 40,
   "id": "7dc1d578",
   "metadata": {},
   "outputs": [],
   "source": [
    "x = np.random.randn(10,2) # 입력\n",
    "\n",
    "w1 = np.random.randn(2,4) # 가중치\n",
    "w2 = np.random.randn(4,3) # 가중치\n",
    "\n",
    "b1 = np.random.randn(4) # 편향\n",
    "b2 = np.random.randn(3)"
   ]
  },
  {
   "cell_type": "code",
   "execution_count": 41,
   "id": "f08e945a",
   "metadata": {},
   "outputs": [],
   "source": [
    "h = np.matmul(x, w1)+b1 # (10,2) x (2,4) + (4,) = (10,4) (Feat : Boradcasting)"
   ]
  },
  {
   "cell_type": "markdown",
   "id": "3a0941c3",
   "metadata": {},
   "source": [
    "### 비선형 추가"
   ]
  },
  {
   "cell_type": "code",
   "execution_count": 48,
   "id": "9c61cf2c",
   "metadata": {},
   "outputs": [
    {
     "data": {
      "text/plain": [
       "array([[0.53491697, 0.21449872, 0.82606573, 0.58277072],\n",
       "       [0.55304458, 0.41097241, 0.79907196, 0.46697806],\n",
       "       [0.19716821, 0.1212743 , 0.52219402, 0.83738078],\n",
       "       [0.23483369, 0.02907165, 0.67798574, 0.89818836],\n",
       "       [0.20988184, 0.04515599, 0.61420929, 0.88761132],\n",
       "       [0.21711748, 0.48397229, 0.42470243, 0.66907447],\n",
       "       [0.68576944, 0.50582307, 0.86810626, 0.33828318],\n",
       "       [0.17227321, 0.12137476, 0.47779797, 0.85140037],\n",
       "       [0.54143451, 0.56499282, 0.76147599, 0.40623229],\n",
       "       [0.64074915, 0.08835395, 0.90977279, 0.62547897]])"
      ]
     },
     "execution_count": 48,
     "metadata": {},
     "output_type": "execute_result"
    }
   ],
   "source": [
    "sigmoid = lambda x:1/(1+np.exp(-x))\n",
    "a = sigmoid(h)\n",
    "a"
   ]
  },
  {
   "cell_type": "code",
   "execution_count": 49,
   "id": "9ae1e860",
   "metadata": {},
   "outputs": [
    {
     "data": {
      "text/plain": [
       "array([[ 1.95164769, -1.3578117 , -1.20031984],\n",
       "       [ 1.96582921, -1.31783951, -0.75124818],\n",
       "       [ 1.20870387, -1.34757497, -1.92128665],\n",
       "       [ 1.40297331, -1.43181297, -2.11690024],\n",
       "       [ 1.31355344, -1.39938784, -2.09597185],\n",
       "       [ 1.12337676, -1.29845856, -1.14170738],\n",
       "       [ 2.19848644, -1.30120507, -0.3370698 ],\n",
       "       [ 1.1269915 , -1.33851035, -1.95384532],\n",
       "       [ 1.91663256, -1.30042158, -0.45500835],\n",
       "       [ 2.10591097, -1.41861765, -1.33555061]])"
      ]
     },
     "execution_count": 49,
     "metadata": {},
     "output_type": "execute_result"
    }
   ],
   "source": [
    "s = np.matmul(a, w2) + b2\n",
    "s"
   ]
  },
  {
   "cell_type": "markdown",
   "id": "fc342207",
   "metadata": {},
   "source": [
    "# 1.2.2 계층으로 클래스화 및 순전파 구현\n",
    "- 모든 계층은 forward(), backward() 메서드를 가진다.\n",
    "- 모든 계층은 인스턴스 변수인 params, grads를 가진다."
   ]
  },
  {
   "cell_type": "code",
   "execution_count": 51,
   "id": "40644d97",
   "metadata": {},
   "outputs": [
    {
     "data": {
      "text/plain": [
       "array([[0.87562619, 0.20459619, 0.23141832],\n",
       "       [0.87716242, 0.21117797, 0.32054939],\n",
       "       [0.77006953, 0.20626712, 0.12771816],\n",
       "       [0.80265528, 0.19281636, 0.10746503],\n",
       "       [0.78810717, 0.19791327, 0.10948895],\n",
       "       [0.75461453, 0.21442455, 0.24200702],\n",
       "       [0.90011351, 0.21396228, 0.41652143],\n",
       "       [0.75528326, 0.20775514, 0.12413467],\n",
       "       [0.87176245, 0.21409407, 0.38817065],\n",
       "       [0.89147637, 0.19487838, 0.20824271]])"
      ]
     },
     "execution_count": 51,
     "metadata": {},
     "output_type": "execute_result"
    }
   ],
   "source": [
    "# Sigmoid 는 학습변수가 없으므로 params는 비어있다.\n",
    "class Sigmoid:\n",
    "    def __init__(self):\n",
    "        self.params = []\n",
    "    def forward(self, x):\n",
    "        return 1/(1+np.exp(-x))\n",
    "sigmoid = Sigmoid()\n",
    "sigmoid.forward(s)"
   ]
  },
  {
   "cell_type": "code",
   "execution_count": 54,
   "id": "396d5e87",
   "metadata": {},
   "outputs": [],
   "source": [
    "class Affine:\n",
    "    def __init__(self, W, b):\n",
    "        self.params = [W,b]\n",
    "\n",
    "    def forward(self, x):\n",
    "        W, b = self.params\n",
    "        out = np.matmul(x, W)+b\n",
    "        return out"
   ]
  },
  {
   "cell_type": "code",
   "execution_count": 58,
   "id": "dd23ef64",
   "metadata": {},
   "outputs": [
    {
     "data": {
      "text/plain": [
       "(array([[ 0.13989561, -1.29801832,  1.5579969 ,  0.33415793],\n",
       "        [ 0.21297977, -0.35994696,  1.38050415, -0.13228033],\n",
       "        [-1.40408799, -1.98041791,  0.08883445,  1.63886748],\n",
       "        [-1.18121565, -3.50848906,  0.74453041,  2.17725536],\n",
       "        [-1.32563778, -3.05142511,  0.46504071,  2.06657073],\n",
       "        [-1.28254406, -0.06413282, -0.30349864,  0.70400202],\n",
       "        [ 0.78041451,  0.02329331,  1.88431756, -0.67095432],\n",
       "        [-1.56960147, -1.9794755 , -0.08886657,  1.74562687],\n",
       "        [ 0.16611899,  0.26145049,  1.16078869, -0.37956303],\n",
       "        [ 0.57861715, -2.3339009 ,  2.31086379,  0.51286973]]),\n",
       " array([[ 1.95164769, -1.3578117 , -1.20031984],\n",
       "        [ 1.96582921, -1.31783951, -0.75124818],\n",
       "        [ 1.20870387, -1.34757497, -1.92128665],\n",
       "        [ 1.40297331, -1.43181297, -2.11690024],\n",
       "        [ 1.31355344, -1.39938784, -2.09597185],\n",
       "        [ 1.12337676, -1.29845856, -1.14170738],\n",
       "        [ 2.19848644, -1.30120507, -0.3370698 ],\n",
       "        [ 1.1269915 , -1.33851035, -1.95384532],\n",
       "        [ 1.91663256, -1.30042158, -0.45500835],\n",
       "        [ 2.10591097, -1.41861765, -1.33555061]]))"
      ]
     },
     "execution_count": 58,
     "metadata": {},
     "output_type": "execute_result"
    }
   ],
   "source": [
    "affine_1 = Affine(w1, b1)\n",
    "affine_2 = Affine(w2, b2)\n",
    "affine_1.forward(x), affine_2.forward(a)"
   ]
  },
  {
   "cell_type": "code",
   "execution_count": 59,
   "id": "0645c90a",
   "metadata": {},
   "outputs": [],
   "source": [
    "class TwoLayerNet:\n",
    "    def __init__(self, input_size, hidden_size, output_size):\n",
    "        self.w1 = np.random.randn(input_size, hidden_size)\n",
    "        self.b1 = np.random.randn(hidden_size)\n",
    "        self.w2 = np.random.randn(hidden_size, output_size)\n",
    "        self.b1 = np.random.randn(output_size)\n",
    "        \n",
    "        self.layers = [\n",
    "            Affine(w1,b1),\n",
    "            Sigmoid(),\n",
    "            Affine(w2, b2)\n",
    "        ]\n",
    "        \n",
    "        self.params = []\n",
    "        for layer in self.layers:\n",
    "            self.params += layer.params\n",
    "    \n",
    "    def predict(self, x):\n",
    "        for layer in self.layers:\n",
    "            x = layer.forward(x)\n",
    "        return x"
   ]
  },
  {
   "cell_type": "code",
   "execution_count": 61,
   "id": "e171cb24",
   "metadata": {},
   "outputs": [
    {
     "data": {
      "text/plain": [
       "array([[ 1.95164769, -1.3578117 , -1.20031984],\n",
       "       [ 1.96582921, -1.31783951, -0.75124818],\n",
       "       [ 1.20870387, -1.34757497, -1.92128665],\n",
       "       [ 1.40297331, -1.43181297, -2.11690024],\n",
       "       [ 1.31355344, -1.39938784, -2.09597185],\n",
       "       [ 1.12337676, -1.29845856, -1.14170738],\n",
       "       [ 2.19848644, -1.30120507, -0.3370698 ],\n",
       "       [ 1.1269915 , -1.33851035, -1.95384532],\n",
       "       [ 1.91663256, -1.30042158, -0.45500835],\n",
       "       [ 2.10591097, -1.41861765, -1.33555061]])"
      ]
     },
     "execution_count": 61,
     "metadata": {},
     "output_type": "execute_result"
    }
   ],
   "source": [
    "net = TwoLayerNet(2,4,3)\n",
    "net.predict(x)"
   ]
  },
  {
   "cell_type": "markdown",
   "id": "d72fce87",
   "metadata": {},
   "source": [
    "# 1.3.1 손실 함수"
   ]
  },
  {
   "cell_type": "code",
   "execution_count": 63,
   "id": "7fbf7851",
   "metadata": {},
   "outputs": [],
   "source": [
    "class Softmax:\n",
    "    def __init__(self):\n",
    "        self.params = []\n",
    "    \n",
    "    def forward(self,x):\n",
    "        return np.exp(x-np.max(x))/np.sum(np.exp(x))"
   ]
  },
  {
   "cell_type": "code",
   "execution_count": 64,
   "id": "73c7c9db",
   "metadata": {},
   "outputs": [
    {
     "data": {
      "text/plain": [
       "array([[0.0127388 , 0.00046542, 0.00054481],\n",
       "       [0.01292074, 0.0004844 , 0.00085364],\n",
       "       [0.00605999, 0.00047021, 0.00026493],\n",
       "       [0.0073594 , 0.00043223, 0.00021786],\n",
       "       [0.00672989, 0.00044647, 0.00022247],\n",
       "       [0.00556436, 0.00049388, 0.0005777 ],\n",
       "       [0.01630531, 0.00049253, 0.00129167],\n",
       "       [0.00558451, 0.00047449, 0.00025645],\n",
       "       [0.01230047, 0.00049292, 0.00114797],\n",
       "       [0.01486361, 0.00043797, 0.0004759 ]])"
      ]
     },
     "execution_count": 64,
     "metadata": {},
     "output_type": "execute_result"
    }
   ],
   "source": [
    "softmax = Softmax()\n",
    "softmax.forward(net.predict(x))"
   ]
  },
  {
   "cell_type": "code",
   "execution_count": 71,
   "id": "00d96afa",
   "metadata": {},
   "outputs": [],
   "source": [
    "class CrossEntrophyLoss:\n",
    "    def __init__(self, batch_size):\n",
    "        self.params = []\n",
    "        self.batch_size = batch_size\n",
    "    \n",
    "    def forward(self, y, t):\n",
    "        return -(np.sum(np.sum(t*np.log(y))))/self.batch_size"
   ]
  },
  {
   "cell_type": "code",
   "execution_count": 79,
   "id": "0761a4b7",
   "metadata": {},
   "outputs": [
    {
     "data": {
      "text/plain": [
       "99.97448063779545"
      ]
     },
     "execution_count": 79,
     "metadata": {},
     "output_type": "execute_result"
    }
   ],
   "source": [
    "loss = CrossEntrophyLoss(2)\n",
    "loss.forward(softmax.forward(net.predict(x)), np.ones_like(net.predict(x)))"
   ]
  },
  {
   "cell_type": "markdown",
   "id": "9417e045",
   "metadata": {},
   "source": [
    "# 1.3.2 미분과 기울기"
   ]
  },
  {
   "cell_type": "markdown",
   "id": "a9d0aa11",
   "metadata": {},
   "source": [
    "### 딥러닝에서 기울기는 수학적 기울기와 달리 벡터에 대한 미분으로 한정된다."
   ]
  },
  {
   "cell_type": "markdown",
   "id": "b2edb031",
   "metadata": {},
   "source": [
    "# 1.3.3 연쇄 법칙"
   ]
  },
  {
   "cell_type": "markdown",
   "id": "d1c965d7",
   "metadata": {},
   "source": [
    "### 오차역전파법 (back-propagation)의 기본이 되는 이론으로, 국소적 미분값을 구하면 전체 미분값을 구할 수 있음을 시사."
   ]
  },
  {
   "cell_type": "markdown",
   "id": "e818dfca",
   "metadata": {},
   "source": [
    "# 1.3.4 계산 그래프"
   ]
  },
  {
   "cell_type": "markdown",
   "id": "8214f07b",
   "metadata": {},
   "source": [
    "### 계산그래프에서 역방향에 편미분을 나타내면 순, 역방향 모두 포함하는 계산 그래프를 나타낼 수 있다."
   ]
  },
  {
   "cell_type": "code",
   "execution_count": null,
   "id": "d607ef85",
   "metadata": {},
   "outputs": [],
   "source": []
  }
 ],
 "metadata": {
  "kernelspec": {
   "display_name": "Python 3 (ipykernel)",
   "language": "python",
   "name": "python3"
  },
  "language_info": {
   "codemirror_mode": {
    "name": "ipython",
    "version": 3
   },
   "file_extension": ".py",
   "mimetype": "text/x-python",
   "name": "python",
   "nbconvert_exporter": "python",
   "pygments_lexer": "ipython3",
   "version": "3.9.15"
  }
 },
 "nbformat": 4,
 "nbformat_minor": 5
}
