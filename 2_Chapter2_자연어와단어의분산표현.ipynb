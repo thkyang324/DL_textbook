{
 "cells": [
  {
   "cell_type": "code",
   "execution_count": 13,
   "id": "61dd7d4f",
   "metadata": {},
   "outputs": [],
   "source": [
    "import numpy as np"
   ]
  },
  {
   "cell_type": "markdown",
   "id": "d4482bcf",
   "metadata": {},
   "source": [
    "# Corpus"
   ]
  },
  {
   "cell_type": "code",
   "execution_count": 20,
   "id": "0f7efd26",
   "metadata": {},
   "outputs": [],
   "source": [
    "def get_corpus(text):\n",
    "    tokens = text.lower().replace(\".\",\" .\").split()\n",
    "    text2idx = {}\n",
    "    idx2text = {}\n",
    "    \n",
    "    for token in tokens:\n",
    "        if token not in text2idx:\n",
    "            new_idx = len(text2idx)\n",
    "            text2idx[token] = new_idx\n",
    "            idx2text[new_idx] = token\n",
    "    return np.array([text2idx[i] for i in tokens]), text2idx, idx2text\n",
    "corpus, word2idx, idx2word = get_corpus(\"You say goodbye and I say hello.\")"
   ]
  },
  {
   "cell_type": "markdown",
   "id": "b45f78d7",
   "metadata": {},
   "source": [
    "# 분포가설 - 동시발생행렬"
   ]
  },
  {
   "cell_type": "code",
   "execution_count": 21,
   "id": "1d5cd8ab",
   "metadata": {},
   "outputs": [],
   "source": [
    "def create_co_matrix(corpus, vocab_size, window_size=1):\n",
    "    corpus_size = len(corpus)\n",
    "    co_matrix = np.zeros((vocab_size, vocab_size), dtype=np.int32)\n",
    "    \n",
    "    for idx, word_id in enumerate(corpus):\n",
    "        for i in range(1, window_size+1):\n",
    "            l_idx = idx-i\n",
    "            r_idx = idx+i\n",
    "            \n",
    "            if l_idx >= 0:\n",
    "                l_word_id = corpus[l_idx]\n",
    "                co_matrix[word_id, l_word_id] += 1\n",
    "            if r_idx < corpus_size:\n",
    "                r_word_id = corpus[r_idx]\n",
    "                co_matrix[word_id, r_word_id] += 1\n",
    "    return co_matrix\n",
    "\n",
    "co_mtx = create_co_matrix(corpus, 7, 1)"
   ]
  },
  {
   "cell_type": "markdown",
   "id": "58b88965",
   "metadata": {},
   "source": [
    "# Cosine Simularity"
   ]
  },
  {
   "cell_type": "code",
   "execution_count": 22,
   "id": "8e5410e5",
   "metadata": {},
   "outputs": [],
   "source": [
    "def cos_simularity(x, y, eps=1e-8):\n",
    "    nx = x / (np.sqrt(np.sum(x**2))+eps)\n",
    "    ny = y / (np.sqrt(np.sum(y**2))+eps)\n",
    "    return np.dot(nx, ny)"
   ]
  },
  {
   "cell_type": "code",
   "execution_count": 25,
   "id": "9fd24a24",
   "metadata": {},
   "outputs": [
    {
     "data": {
      "text/plain": [
       "0.7071067691154799"
      ]
     },
     "execution_count": 25,
     "metadata": {},
     "output_type": "execute_result"
    }
   ],
   "source": [
    "cos_simularity(co_mtx[word2idx[\"you\"]],co_mtx[word2idx[\"i\"]])"
   ]
  },
  {
   "cell_type": "code",
   "execution_count": 40,
   "id": "e7fe500c",
   "metadata": {},
   "outputs": [
    {
     "name": "stdout",
     "output_type": "stream",
     "text": [
      "goodbye\t:0.9999999858578643\t\n",
      "you\t:0.7071067691154799\t\n",
      "hello\t:0.49999999292893216\t\n",
      "say\t:0.0\t\n",
      "and\t:0.0\t\n"
     ]
    }
   ],
   "source": [
    "def most_simular(query, word2idx, idx2word, word_matrix, top=5):\n",
    "    if query not in word2idx:\n",
    "        raise(\"단어가 존재하지 않습니다.\")\n",
    "    q_id = word2idx[query]\n",
    "    q_vector = word_matrix[q_id]\n",
    "    \n",
    "    vocab_size = len(idx2word)\n",
    "    sim_matrix = np.zeros(vocab_size)\n",
    "    \n",
    "    for i in range(vocab_size):\n",
    "        sim_matrix[i] = cos_simularity(q_vector, word_matrix[i])\n",
    "    \n",
    "    cnt = 0\n",
    "    for i in (-1*sim_matrix).argsort():\n",
    "        if idx2word[i] == query:\n",
    "            continue\n",
    "        print(f\"{idx2word[i]}\\t:{sim_matrix[i]}\\t\")\n",
    "        cnt += 1\n",
    "        if cnt >= top:\n",
    "            return\n",
    "    \n",
    "most_simular(\"i\", word2idx, idx2word, co_mtx)"
   ]
  },
  {
   "cell_type": "code",
   "execution_count": 162,
   "id": "defe1647",
   "metadata": {},
   "outputs": [
    {
     "data": {
      "text/plain": [
       "array([ 1.31427408, -0.48803488,  0.18712927])"
      ]
     },
     "execution_count": 162,
     "metadata": {},
     "output_type": "execute_result"
    }
   ],
   "source": [
    "def forward(x):\n",
    "    w = np.random.randn(7,3)\n",
    "    b = np.random.randn(3)\n",
    "    return np.matmul(x,w)+b\n",
    "forward(co_mtx[0])"
   ]
  },
  {
   "cell_type": "code",
   "execution_count": 164,
   "id": "3ace2831",
   "metadata": {},
   "outputs": [
    {
     "data": {
      "text/plain": [
       "Net()"
      ]
     },
     "execution_count": 164,
     "metadata": {},
     "output_type": "execute_result"
    }
   ],
   "source": [
    " class Net(nn.Module):\n",
    "    def __init__(self):\n",
    "        super(Net, self).__init__()\n",
    "        \n",
    "    def forward(self, x):\n",
    "        return x\n",
    "Net()"
   ]
  },
  {
   "cell_type": "code",
   "execution_count": null,
   "id": "9e8a12a2",
   "metadata": {},
   "outputs": [],
   "source": [
    "model = Net()\n",
    "optimizer = torch.optim.Adam()\n"
   ]
  }
 ],
 "metadata": {
  "kernelspec": {
   "display_name": "Python 3 (ipykernel)",
   "language": "python",
   "name": "python3"
  },
  "language_info": {
   "codemirror_mode": {
    "name": "ipython",
    "version": 3
   },
   "file_extension": ".py",
   "mimetype": "text/x-python",
   "name": "python",
   "nbconvert_exporter": "python",
   "pygments_lexer": "ipython3",
   "version": "3.9.13"
  }
 },
 "nbformat": 4,
 "nbformat_minor": 5
}
